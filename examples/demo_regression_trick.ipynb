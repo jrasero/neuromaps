{
 "cells": [
  {
   "cell_type": "markdown",
   "metadata": {},
   "source": [
    "This file demonstrates how we can obtain the (univariate) regression coefficients very quickly, without having to use any loop, between EACH feature in an input matrix X and the response variable y.\n",
    "\n",
    "We first estimate the \"reverse\" model (y->X), i.e. y regressed onto X, which is algebraically straightforward to compute. This model will give us $\\beta_{y->x}$ (and \\alpha_{y->x}, which we don't need). \n",
    "\n",
    "Then we use the (mathematical) relation betwen both univariate regressions to compute the coefficients from  regressing each column of X onto y as follows:\n",
    "\n",
    "$$\\beta_{x->y} = \\beta_{y->x} \\cdot \\left(\\frac{\\sigma_y}{\\sigma_x}\\right)^2$$\n",
    "$$\\alpha_{x->y} = \\mu_y -\\mu_x \\cdot  \\beta_{y->x}  \\cdot \\left(\\frac{\\sigma_y}{\\sigma_x}\\right)^2$$\n",
    "\n"
   ]
  },
  {
   "cell_type": "code",
   "execution_count": 1,
   "metadata": {},
   "outputs": [],
   "source": [
    "import numpy as np\n",
    "from sklearn import datasets\n",
    "from sklearn.linear_model import LinearRegression\n",
    "import time"
   ]
  },
  {
   "cell_type": "code",
   "execution_count": 2,
   "metadata": {},
   "outputs": [],
   "source": [
    "X,y = datasets.make_regression(n_features=int(1e5), random_state=69)"
   ]
  },
  {
   "cell_type": "code",
   "execution_count": 3,
   "metadata": {},
   "outputs": [
    {
     "name": "stdout",
     "output_type": "stream",
     "text": [
      "brute force time = 34.893205 s\n"
     ]
    }
   ],
   "source": [
    "def compute_brute(X,y):\n",
    "    \"\"\"\n",
    "    \n",
    "    This function just loops through each feature\n",
    "    \n",
    "    \"\"\"\n",
    "    LinReg = LinearRegression()\n",
    "    alpha, beta = [],[]\n",
    "    for x in X.T:\n",
    "        LinReg.fit(x[:,None], y)\n",
    "        alpha.append(LinReg.intercept_)\n",
    "        beta.append(LinReg.coef_[0])\n",
    "    \n",
    "    alpha = np.array(alpha)\n",
    "    beta = np.array(beta)\n",
    "\n",
    "    return alpha, beta\n",
    "    \n",
    "t_0 = time.time()\n",
    "alpha_brute, beta_brute = compute_brute(X,y)\n",
    "t_f = time.time()\n",
    "print(\"brute force time = %f s\" % (t_f-t_0))"
   ]
  },
  {
   "cell_type": "code",
   "execution_count": 4,
   "metadata": {},
   "outputs": [
    {
     "name": "stdout",
     "output_type": "stream",
     "text": [
      "inverse force time = 0.195947 s\n"
     ]
    }
   ],
   "source": [
    "def compute_inverse(X, y):\n",
    "    \"\"\"\n",
    "    \n",
    "    This function computes first the regression of y onto \n",
    "    the whole matrix of features, and then use the estimated\n",
    "    coefficients to calculate the coefficients from regressing\n",
    "    each column of X onto y\n",
    "    \n",
    "    \"\"\"\n",
    "    \n",
    "    LinReg = LinearRegression()\n",
    "    LinReg.fit(y[:, None], X)\n",
    "    beta_inv = LinReg.coef_.flatten()\n",
    "\n",
    "    varx = np.var(X, axis=0)\n",
    "    vary = np.var(y)\n",
    "    mux = np.mean(X, axis=0)\n",
    "    muy = np.mean(y)\n",
    "\n",
    "    beta = (vary*beta_inv)/varx\n",
    "    alpha = muy - (mux*beta_inv/varx)*vary\n",
    "    return alpha, beta\n",
    "\n",
    "t_0 = time.time()\n",
    "alpha_inv, beta_inv = compute_inverse(X,y)\n",
    "t_f = time.time()\n",
    "print(\"inverse force time = %f s\" % (t_f-t_0))"
   ]
  },
  {
   "cell_type": "code",
   "execution_count": 5,
   "metadata": {},
   "outputs": [
    {
     "name": "stdout",
     "output_type": "stream",
     "text": [
      "correlation of the intercepts between both approaches= 1.000000\n",
      "correlation of the betas between both  = 1.000000\n"
     ]
    }
   ],
   "source": [
    "# Both solutions should be the same\n",
    "print(\"correlation of the intercepts between both approaches= %f\" % np.corrcoef(alpha_brute, alpha_inv)[0,1])\n",
    "print(\"correlation of the betas between both  = %f\" %np.corrcoef(beta_brute.flatten(), beta_inv)[0,1])"
   ]
  }
 ],
 "metadata": {
  "kernelspec": {
   "display_name": "Python 3",
   "language": "python",
   "name": "python3"
  },
  "language_info": {
   "codemirror_mode": {
    "name": "ipython",
    "version": 3
   },
   "file_extension": ".py",
   "mimetype": "text/x-python",
   "name": "python",
   "nbconvert_exporter": "python",
   "pygments_lexer": "ipython3",
   "version": "3.8.3"
  }
 },
 "nbformat": 4,
 "nbformat_minor": 4
}
